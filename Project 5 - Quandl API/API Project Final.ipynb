{
 "cells": [
  {
   "cell_type": "markdown",
   "metadata": {},
   "source": [
    "This exercise will require you to pull some data from the Qunadl API. Qaundl is currently the most widely used aggregator of financial market data."
   ]
  },
  {
   "cell_type": "markdown",
   "metadata": {},
   "source": [
    "As a first step, you will need to register a free account on the http://www.quandl.com website."
   ]
  },
  {
   "cell_type": "markdown",
   "metadata": {},
   "source": [
    "After you register, you will be provided with a unique API key, that you should store:"
   ]
  },
  {
   "cell_type": "code",
   "execution_count": 1,
   "metadata": {},
   "outputs": [],
   "source": [
    "API_KEY = 'wqMshFyiDy15QupEXuyV'"
   ]
  },
  {
   "cell_type": "markdown",
   "metadata": {},
   "source": [
    "For this mini project, we will focus on equities data from the Frankfurt Stock Exhange (FSE), which is available for free. We'll try and analyze the stock prices of a company called Carl Zeiss Meditec, which manufactures tools for eye examinations, as well as medical lasers for laser eye surgery: https://www.zeiss.com/meditec/int/home.html. The company is listed under the stock ticker AFX_X."
   ]
  },
  {
   "cell_type": "markdown",
   "metadata": {},
   "source": [
    "You can find the detailed Quandl API instructions here: https://docs.quandl.com/docs/time-series"
   ]
  },
  {
   "cell_type": "markdown",
   "metadata": {},
   "source": [
    "While there is a dedicated Python package for connecting to the Quandl API, we would prefer that you use the *requests* package, which can be easily downloaded using *pip* or *conda*. You can find the documentation for the package here: http://docs.python-requests.org/en/master/ "
   ]
  },
  {
   "cell_type": "markdown",
   "metadata": {},
   "source": [
    "Finally, apart from the *requests* package, you are encouraged to not use any third party Python packages, such as *pandas*, and instead focus on what's available in the Python Standard Library (the *collections* module might come in handy: https://pymotw.com/3/collections/ ).\n",
    "Also, since you won't have access to DataFrames, you are encouraged to us Python's native data structures - preferably dictionaries, though some questions can also be answered using lists.\n",
    "You can read more on these data structures here: https://docs.python.org/3/tutorial/datastructures.html"
   ]
  },
  {
   "cell_type": "markdown",
   "metadata": {},
   "source": [
    "Keep in mind that the JSON responses you will be getting from the API map almost one-to-one to Python's dictionaries. Unfortunately, they can be very nested, so make sure you read up on indexing dictionaries in the documentation provided above."
   ]
  },
  {
   "cell_type": "markdown",
   "metadata": {},
   "source": [
    "These are your tasks for this mini project:\n",
    "\n",
    "1. Collect data from the Franfurt Stock Exchange, for the ticker AFX_X, for the whole year 2017 (keep in mind that the date format is YYYY-MM-DD).\n",
    "2. Convert the returned JSON object into a Python dictionary.\n",
    "3. Calculate what the highest and lowest opening prices were for the stock in this period.\n",
    "4. What was the largest change in any one day (based on High and Low price)?\n",
    "5. What was the largest change between any two days (based on Closing Price)?\n",
    "6. What was the average daily trading volume during this year?\n",
    "7. (Optional) What was the median trading volume during this year. (Note: you may need to implement your own function for calculating the median.)"
   ]
  },
  {
   "cell_type": "markdown",
   "metadata": {},
   "source": [
    "Excellence: Student solves the 7th optional task, uses list comprehensions in their code,\n",
    "and abstracts certain pieces of the solutions into separate functions (i.e. extracting the index of a data field).\n"
   ]
  },
  {
   "cell_type": "code",
   "execution_count": 2,
   "metadata": {},
   "outputs": [],
   "source": [
    "import requests"
   ]
  },
  {
   "cell_type": "code",
   "execution_count": 3,
   "metadata": {},
   "outputs": [],
   "source": [
    "url = \"https://www.quandl.com/api/v3/datasets/FSE/AFX_X\""
   ]
  },
  {
   "cell_type": "code",
   "execution_count": 4,
   "metadata": {},
   "outputs": [],
   "source": [
    "params = dict(api_key=API_KEY, start_date='2017-01-01', end_date='2017-12-31')"
   ]
  },
  {
   "cell_type": "code",
   "execution_count": 5,
   "metadata": {},
   "outputs": [],
   "source": [
    "res = requests.get(url,params=params)"
   ]
  },
  {
   "cell_type": "code",
   "execution_count": 6,
   "metadata": {},
   "outputs": [
    {
     "name": "stdout",
     "output_type": "stream",
     "text": [
      "200\n"
     ]
    }
   ],
   "source": [
    "# Here I check the connection was successful (200 means it works fine)\n",
    "print(res.status_code)"
   ]
  },
  {
   "cell_type": "code",
   "execution_count": 7,
   "metadata": {},
   "outputs": [],
   "source": [
    "# Convert the response into JSON\n",
    "json = res.json()"
   ]
  },
  {
   "cell_type": "code",
   "execution_count": 8,
   "metadata": {},
   "outputs": [
    {
     "data": {
      "text/plain": [
       "dict_keys(['dataset'])"
      ]
     },
     "execution_count": 8,
     "metadata": {},
     "output_type": "execute_result"
    }
   ],
   "source": [
    "# Check the keys\n",
    "json.keys()"
   ]
  },
  {
   "cell_type": "code",
   "execution_count": 9,
   "metadata": {},
   "outputs": [],
   "source": [
    "# Convert the dataset to a dictionary\n",
    "json_dict = dict(json['dataset'])"
   ]
  },
  {
   "cell_type": "code",
   "execution_count": 10,
   "metadata": {},
   "outputs": [],
   "source": [
    "# Save the column names to later check the data better\n",
    "columns = json_dict['column_names']"
   ]
  },
  {
   "cell_type": "code",
   "execution_count": 11,
   "metadata": {},
   "outputs": [],
   "source": [
    "# Save the data in a variable easier to access\n",
    "data = json_dict['data']"
   ]
  },
  {
   "cell_type": "code",
   "execution_count": 12,
   "metadata": {},
   "outputs": [
    {
     "name": "stdout",
     "output_type": "stream",
     "text": [
      "['Date', 'Open', 'High', 'Low', 'Close']\n",
      "['2017-12-29', 51.76, 51.94, 51.45, 51.76]\n",
      "['2017-12-28', 51.65, 51.82, 51.43, 51.6]\n",
      "['2017-12-27', 51.45, 51.89, 50.76, 51.82]\n",
      "['2017-12-22', 51.05, 51.5, 50.92, 51.32]\n",
      "['2017-12-21', 51.16, 51.52, 50.9, 51.4]\n",
      "['2017-12-20', 51.88, 52.04, 51.2, 51.27]\n",
      "['2017-12-19', 52.73, 52.73, 51.07, 51.66]\n",
      "['2017-12-18', 52.37, 52.75, 51.61, 52.62]\n",
      "['2017-12-15', 52.7, 52.7, 51.64, 52.01]\n",
      "['2017-12-14', 53.11, 53.54, 52.15, 52.67]\n"
     ]
    }
   ],
   "source": [
    "# Check the first observations we see it is a list of lists\n",
    "print(columns[0:5])\n",
    "for observation in data[0:10]:\n",
    "    print(observation[0:5])"
   ]
  },
  {
   "cell_type": "code",
   "execution_count": 13,
   "metadata": {},
   "outputs": [],
   "source": [
    "# This answers the first part of the 3rd question\n",
    "open_values = list(map(lambda x: x[1], data))\n",
    "max_opening_value = max(x for x in open_values if x is not None)\n",
    "#print('The maximum opening value was: '+ str(max_opening_value))"
   ]
  },
  {
   "cell_type": "code",
   "execution_count": 14,
   "metadata": {},
   "outputs": [],
   "source": [
    "# This answers the second part of the 3rd question\n",
    "open_values = list(map(lambda x: x[1], data))\n",
    "min_opening_value = min(x for x in open_values if x is not None)\n",
    "#print('The minimum opening value was: '+ str(min_opening_value))"
   ]
  },
  {
   "cell_type": "code",
   "execution_count": 15,
   "metadata": {},
   "outputs": [],
   "source": [
    "# This answers the 4th question\n",
    "largest_change = max(map(lambda x: ((x[2]-x[3])/x[3])*100, data))\n",
    "#print('The largest change between lowest and highest selling prince was: ' + str(round(largest_change,2))+'%')"
   ]
  },
  {
   "cell_type": "code",
   "execution_count": 16,
   "metadata": {},
   "outputs": [],
   "source": [
    "# This answers the 5th question\n",
    "closing_values = list(map(lambda x: x[4], data))\n",
    "pct_change = [((b-a)/a)*100 for a,b in zip(closing_values,closing_values[1:])]\n",
    "max_pct_change = max(pct_change)\n",
    "#print('The maximum percent change between between two closing days was: ' + str(round(max_pct_change,2))+'%')"
   ]
  },
  {
   "cell_type": "code",
   "execution_count": 17,
   "metadata": {},
   "outputs": [],
   "source": [
    "# This answers the 6th question\n",
    "avg_traded_volumne = sum(map(lambda x : x[6], data))/len(data)\n",
    "#print('The average trading volumne was: ' +str(round(avg_traded_volumne,2)))"
   ]
  },
  {
   "cell_type": "code",
   "execution_count": 18,
   "metadata": {},
   "outputs": [],
   "source": [
    "# Here I create the function to find the median without using 3rd party libraries\n",
    "\n",
    "def median(x):\n",
    "    count_values = len(x)\n",
    "    x.sort() \n",
    "    \n",
    "    if count_values % 2 == 0: \n",
    "        median1 = x[count_values//2] \n",
    "        median2 = x[count_values//2 - 1] \n",
    "        median = (median1 + median2)/2\n",
    "    \n",
    "    else: \n",
    "        median = x[count_values//2] \n",
    "    \n",
    "    return median"
   ]
  },
  {
   "cell_type": "code",
   "execution_count": 19,
   "metadata": {},
   "outputs": [],
   "source": [
    "# Here I extract the median from the dataset\n",
    "median_traded_volume = median(list(map(lambda x : x[6], data)))\n",
    "#print('The median in terms of trading volumne was: ' +str(median_traded_volume))"
   ]
  },
  {
   "cell_type": "markdown",
   "metadata": {},
   "source": [
    "## Carl Zeiss Meditec Stock Prices Indicators for the Year 2017"
   ]
  },
  {
   "cell_type": "code",
   "execution_count": 20,
   "metadata": {},
   "outputs": [
    {
     "name": "stdout",
     "output_type": "stream",
     "text": [
      "Maximum opening value: €53.11\n",
      "Minimum opening value: €34.0\n",
      "Largest % change on daily prices: 6.5%\n",
      "Maximum percent change betwee two consecutive days: 6.12%\n",
      "Average trading volume: €89124.34\n",
      "Median trading volume: €76286.0\n"
     ]
    }
   ],
   "source": [
    "# This prints out every question in an organized manner\n",
    "\n",
    "print('Maximum opening value: €' + str(max_opening_value))\n",
    "print('Minimum opening value: €' + str(min_opening_value))\n",
    "print('Largest % change on daily prices: ' + str(round(largest_change,2))+'%')\n",
    "print('Maximum percent change betwee two consecutive days: ' + str(round(max_pct_change,2))+'%')\n",
    "print('Average trading volume: €' + str(round(avg_traded_volumne,2)))\n",
    "print('Median trading volume: €' + str(median_traded_volume))"
   ]
  }
 ],
 "metadata": {
  "kernelspec": {
   "display_name": "Python 3",
   "language": "python",
   "name": "python3"
  },
  "language_info": {
   "codemirror_mode": {
    "name": "ipython",
    "version": 3
   },
   "file_extension": ".py",
   "mimetype": "text/x-python",
   "name": "python",
   "nbconvert_exporter": "python",
   "pygments_lexer": "ipython3",
   "version": "3.7.6"
  }
 },
 "nbformat": 4,
 "nbformat_minor": 4
}
